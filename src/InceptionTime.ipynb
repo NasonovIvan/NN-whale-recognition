{
 "cells": [
  {
   "cell_type": "code",
   "execution_count": 1,
   "metadata": {},
   "outputs": [
    {
     "name": "stderr",
     "output_type": "stream",
     "text": [
      "2023-05-25 02:00:27.258927: I tensorflow/core/platform/cpu_feature_guard.cc:193] This TensorFlow binary is optimized with oneAPI Deep Neural Network Library (oneDNN) to use the following CPU instructions in performance-critical operations:  AVX2 FMA\n",
      "To enable them in other operations, rebuild TensorFlow with the appropriate compiler flags.\n"
     ]
    }
   ],
   "source": [
    "import imports as im\n",
    "import functions as fn\n",
    "%matplotlib inline"
   ]
  },
  {
   "cell_type": "code",
   "execution_count": 2,
   "metadata": {},
   "outputs": [],
   "source": [
    "# Set path to directory with folders train and test\n",
    "df = im.pd.read_csv('../data/data/train.csv')\n",
    "path_train = '../datasets/train_wav/'\n",
    "path_train_noised = '../datasets/train_wavs_noised_002/'"
   ]
  },
  {
   "cell_type": "markdown",
   "metadata": {},
   "source": [
    "Create datasets\n",
    "\n",
    "- train : 80%\n",
    "- val : 10%\n",
    "- test : 10%"
   ]
  },
  {
   "cell_type": "code",
   "execution_count": 3,
   "metadata": {},
   "outputs": [],
   "source": [
    "train_index = int(len(df[\"clip_name\"]) * 0.8)\n",
    "val_index = train_index + int(len(df[\"clip_name\"]) * 0.1)"
   ]
  },
  {
   "cell_type": "code",
   "execution_count": 4,
   "metadata": {},
   "outputs": [
    {
     "name": "stderr",
     "output_type": "stream",
     "text": [
      "/usr/local/lib/python3.10/site-packages/librosa/feature/spectral.py:2157: UserWarning: Empty filters detected in mel frequency basis. Some channels will produce empty responses. Try increasing your sampling rate (and fmax) or reducing n_mels.\n",
      "  mel_basis = filters.mel(sr=sr, n_fft=n_fft, **kwargs)\n"
     ]
    },
    {
     "name": "stdout",
     "output_type": "stream",
     "text": [
      "10.0 % completed\n",
      "20.0 % completed\n",
      "30.0 % completed\n",
      "40.0 % completed\n",
      "50.0 % completed\n",
      "60.0 % completed\n",
      "70.0 % completed\n",
      "80.0 % completed\n",
      "90.0 % completed\n",
      "100.0 % completed\n"
     ]
    }
   ],
   "source": [
    "x_train_hc, y_train_hc, x_val_hc, y_val_hc, x_test_hc, y_test_hc = fn.create_HC_dataset_wavs(df, train_index, val_index, path_train, Noised=False)"
   ]
  },
  {
   "cell_type": "code",
   "execution_count": null,
   "metadata": {},
   "outputs": [],
   "source": [
    "# create Complexity-Entropy datasets from wav-file with ordpy (work worse and longer, than the previous method)\n",
    "x_train_hc_ord, y_train_hc_ord, x_val_hc_ord, y_val_hc_ord, x_test_hc_ord, y_test_hc_ord = fn.create_hc_dataset_ordpy(df, path_train, train_index, val_index)"
   ]
  },
  {
   "cell_type": "code",
   "execution_count": 5,
   "metadata": {},
   "outputs": [
    {
     "name": "stderr",
     "output_type": "stream",
     "text": [
      "2023-05-25 02:15:39.740413: I tensorflow/core/platform/cpu_feature_guard.cc:193] This TensorFlow binary is optimized with oneAPI Deep Neural Network Library (oneDNN) to use the following CPU instructions in performance-critical operations:  AVX2 FMA\n",
      "To enable them in other operations, rebuild TensorFlow with the appropriate compiler flags.\n"
     ]
    }
   ],
   "source": [
    "train_data_hc = im.tf.data.Dataset.from_tensor_slices((x_train_hc, y_train_hc))\n",
    "val_data_hc = im.tf.data.Dataset.from_tensor_slices((x_val_hc, y_val_hc))\n",
    "test_data_hc = im.tf.data.Dataset.from_tensor_slices((x_test_hc, y_test_hc))\n",
    "\n",
    "batch_size = 64\n",
    "\n",
    "train_data_hc = train_data_hc.batch(batch_size)\n",
    "val_data_hc = val_data_hc.batch(batch_size)\n",
    "test_data_hc = test_data_hc.batch(batch_size)"
   ]
  },
  {
   "cell_type": "markdown",
   "metadata": {},
   "source": [
    "## Inception Time"
   ]
  },
  {
   "cell_type": "code",
   "execution_count": 6,
   "metadata": {},
   "outputs": [
    {
     "name": "stdout",
     "output_type": "stream",
     "text": [
      "You must install pydot (`pip install pydot`) and install graphviz (see instructions at https://graphviz.gitlab.io/download/) for plot_model to work.\n"
     ]
    }
   ],
   "source": [
    "num_classes = 2\n",
    "\n",
    "def make_model(input_shape):\n",
    "    input_layer = im.keras.layers.Input(input_shape)\n",
    "\n",
    "    conv1 = im.keras.layers.Conv1D(filters=64, kernel_size=3, padding=\"same\")(input_layer)\n",
    "    conv1 = im.keras.layers.BatchNormalization()(conv1)\n",
    "    conv1 = im.keras.layers.ReLU()(conv1)\n",
    "\n",
    "    conv2 = im.keras.layers.Conv1D(filters=64, kernel_size=3, padding=\"same\")(conv1)\n",
    "    conv2 = im.keras.layers.BatchNormalization()(conv2)\n",
    "    conv2 = im.keras.layers.ReLU()(conv2)\n",
    "\n",
    "    conv3 = im.keras.layers.Conv1D(filters=64, kernel_size=3, padding=\"same\")(conv2)\n",
    "    conv3 = im.keras.layers.BatchNormalization()(conv3)\n",
    "    conv3 = im.keras.layers.ReLU()(conv3)\n",
    "\n",
    "    gap = im.keras.layers.GlobalAveragePooling1D()(conv3)\n",
    "\n",
    "    output_layer = im.keras.layers.Dense(num_classes, activation=\"softmax\")(gap)\n",
    "\n",
    "    return im.keras.models.Model(inputs=input_layer, outputs=output_layer)\n",
    "\n",
    "model = make_model(input_shape=x_train_hc.shape[1:])\n",
    "im.keras.utils.plot_model(model, show_shapes=True)"
   ]
  },
  {
   "cell_type": "code",
   "execution_count": 7,
   "metadata": {},
   "outputs": [],
   "source": [
    "epochs = 500\n",
    "weights_inception = \"../weights_inception/InceptionTime.h5\"\n",
    "\n",
    "callbacks = [\n",
    "    im.keras.callbacks.ModelCheckpoint(\n",
    "        weights_inception, save_best_only=True, monitor=\"val_loss\"\n",
    "    ),\n",
    "    im.keras.callbacks.ReduceLROnPlateau(\n",
    "        monitor=\"val_loss\", factor=0.5, patience=20, min_lr=0.0001\n",
    "    ),\n",
    "    im.keras.callbacks.EarlyStopping(monitor=\"val_loss\", patience=50, verbose=1),\n",
    "]\n",
    "model.compile(\n",
    "    optimizer=\"adam\",\n",
    "    loss=\"sparse_categorical_crossentropy\",\n",
    "    metrics=[\"sparse_categorical_accuracy\"],\n",
    ")"
   ]
  },
  {
   "cell_type": "code",
   "execution_count": 14,
   "metadata": {},
   "outputs": [
    {
     "name": "stdout",
     "output_type": "stream",
     "text": [
      "Epoch 1/10\n",
      "375/375 [==============================] - 3s 9ms/step - loss: 0.3415 - sparse_categorical_accuracy: 0.8197 - val_loss: 0.4211 - val_sparse_categorical_accuracy: 0.8370 - lr: 1.2500e-04\n",
      "Epoch 2/10\n",
      "375/375 [==============================] - 3s 8ms/step - loss: 0.3412 - sparse_categorical_accuracy: 0.8204 - val_loss: 0.4226 - val_sparse_categorical_accuracy: 0.8370 - lr: 1.2500e-04\n",
      "Epoch 3/10\n",
      "375/375 [==============================] - 3s 9ms/step - loss: 0.3410 - sparse_categorical_accuracy: 0.8207 - val_loss: 0.4223 - val_sparse_categorical_accuracy: 0.8377 - lr: 1.2500e-04\n",
      "Epoch 4/10\n",
      "375/375 [==============================] - 3s 9ms/step - loss: 0.3406 - sparse_categorical_accuracy: 0.8211 - val_loss: 0.4246 - val_sparse_categorical_accuracy: 0.8360 - lr: 1.2500e-04\n",
      "Epoch 5/10\n",
      "375/375 [==============================] - 4s 10ms/step - loss: 0.3404 - sparse_categorical_accuracy: 0.8212 - val_loss: 0.4254 - val_sparse_categorical_accuracy: 0.8343 - lr: 1.2500e-04\n",
      "Epoch 6/10\n",
      "375/375 [==============================] - 4s 10ms/step - loss: 0.3401 - sparse_categorical_accuracy: 0.8215 - val_loss: 0.4240 - val_sparse_categorical_accuracy: 0.8367 - lr: 1.2500e-04\n",
      "Epoch 7/10\n",
      "375/375 [==============================] - 4s 10ms/step - loss: 0.3399 - sparse_categorical_accuracy: 0.8216 - val_loss: 0.4230 - val_sparse_categorical_accuracy: 0.8373 - lr: 1.2500e-04\n",
      "Epoch 8/10\n",
      "375/375 [==============================] - 4s 10ms/step - loss: 0.3396 - sparse_categorical_accuracy: 0.8218 - val_loss: 0.4237 - val_sparse_categorical_accuracy: 0.8363 - lr: 1.2500e-04\n",
      "Epoch 9/10\n",
      "375/375 [==============================] - 4s 12ms/step - loss: 0.3394 - sparse_categorical_accuracy: 0.8212 - val_loss: 0.4239 - val_sparse_categorical_accuracy: 0.8367 - lr: 1.2500e-04\n",
      "Epoch 10/10\n",
      "375/375 [==============================] - 4s 12ms/step - loss: 0.3392 - sparse_categorical_accuracy: 0.8214 - val_loss: 0.4246 - val_sparse_categorical_accuracy: 0.8360 - lr: 1.2500e-04\n"
     ]
    }
   ],
   "source": [
    "HistoryInception = model.fit(\n",
    "    train_data_hc,\n",
    "    epochs=epochs,\n",
    "    callbacks=callbacks,\n",
    "    validation_data=val_data_hc,\n",
    "    verbose=1,\n",
    ")"
   ]
  },
  {
   "cell_type": "code",
   "execution_count": 15,
   "metadata": {},
   "outputs": [
    {
     "name": "stdout",
     "output_type": "stream",
     "text": [
      "47/47 [==============================] - 0s 4ms/step - loss: 0.3290 - sparse_categorical_accuracy: 0.8573\n",
      "Test accuracy 0.8573333621025085\n",
      "Test loss 0.32895123958587646\n"
     ]
    }
   ],
   "source": [
    "model = im.keras.models.load_model(weights_inception)\n",
    "\n",
    "test_loss, test_acc = model.evaluate(test_data_hc)\n",
    "\n",
    "print(\"Test accuracy\", test_acc)\n",
    "print(\"Test loss\", test_loss)"
   ]
  },
  {
   "cell_type": "code",
   "execution_count": 16,
   "metadata": {},
   "outputs": [],
   "source": [
    "metric = \"sparse_categorical_accuracy\"\n",
    "\n",
    "AccInception = HistoryInception.history[metric]\n",
    "ValAccInception = HistoryInception.history[\"val_\" + metric]\n",
    "\n",
    "EpochsInception = range(1, len(AccInception) + 1)"
   ]
  },
  {
   "cell_type": "code",
   "execution_count": 17,
   "metadata": {},
   "outputs": [
    {
     "data": {
      "image/png": "[encoded data removed]",
      "text/plain": [
       "<Figure size 800x600 with 1 Axes>"
      ]
     },
     "metadata": {},
     "output_type": "display_data"
    }
   ],
   "source": [
    "fn.PlotLossAcc(TrainData=AccInception, ValData=ValAccInception, Epochs=EpochsInception,\n",
    "            TrainLabel='Training accuracy', ValLabel='Validation accuracy',\n",
    "            yLabel='Accuracy', title='Training and validation accuracy Inception Time',\n",
    "            ColTrain='orange', ColVal='red', filename=\"../images/acc_inception.pdf\")"
   ]
  },
  {
   "cell_type": "code",
   "execution_count": null,
   "metadata": {},
   "outputs": [],
   "source": []
  }
 ],
 "metadata": {
  "kernelspec": {
   "display_name": "Python 3.10.9 64-bit",
   "language": "python",
   "name": "python3"
  },
  "language_info": {
   "codemirror_mode": {
    "name": "ipython",
    "version": 3
   },
   "file_extension": ".py",
   "mimetype": "text/x-python",
   "name": "python",
   "nbconvert_exporter": "python",
   "pygments_lexer": "ipython3",
   "version": "3.10.9"
  },
  "orig_nbformat": 4,
  "vscode": {
   "interpreter": {
    "hash": "aee8b7b246df8f9039afb4144a1f6fd8d2ca17a180786b69acc140d282b71a49"
   }
  }
 },
 "nbformat": 4,
 "nbformat_minor": 2
}
